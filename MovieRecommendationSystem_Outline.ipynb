{
 "cells": [
  {
   "cell_type": "code",
   "execution_count": null,
   "id": "cdea3ee6-b174-40a8-989b-07e65cfd8c14",
   "metadata": {},
   "outputs": [],
   "source": [
    "# This is just a rough outline for now!"
   ]
  },
  {
   "cell_type": "code",
   "execution_count": null,
   "id": "02d761e7-c008-489b-b957-3caba66b2d34",
   "metadata": {},
   "outputs": [],
   "source": [
    "# Imports and setups\n",
    "\n",
    "import pandas as pd\n",
    "import numpy as np\n",
    "import tensorflow as tf\n",
    "from tensorflow.keras.models import Model\n",
    "from tensorflow.keras.layers import Input, Embedding, Flatten, Concatenate, Dense, Dropout\n",
    "from sklearn.model_selection import train_test_split"
   ]
  },
  {
   "cell_type": "code",
   "execution_count": null,
   "id": "ca2e5edc-dbf1-4d7e-bfc0-af9acbd02a5a",
   "metadata": {},
   "outputs": [],
   "source": [
    "# Loading and pre-processing data\n",
    "\n",
    "# Example: userId, movieId, rating\n",
    "df = pd.read_csv('ratings.csv')\n",
    "\n",
    "# Filter implicit feedback (optional: for implicit NCF)\n",
    "df['rating'] = df['rating'].apply(lambda x: 1 if x > 3.5 else 0)\n",
    "\n",
    "# Encode user and movie IDs\n",
    "user_ids = df['userId'].unique().tolist()\n",
    "movie_ids = df['movieId'].unique().tolist()\n",
    "\n",
    "user2user_encoded = {x: i for i, x in enumerate(user_ids)}\n",
    "movie2movie_encoded = {x: i for i, x in enumerate(movie_ids)}\n",
    "\n",
    "df['user'] = df['userId'].map(user2user_encoded)\n",
    "df['movie'] = df['movieId'].map(movie2movie_encoded)\n",
    "\n",
    "num_users = len(user2user_encoded)\n",
    "num_movies = len(movie2movie_encoded)\n",
    "\n",
    "X = df[['user', 'movie']].values\n",
    "y = df['rating'].values\n",
    "\n",
    "# Split data\n",
    "X_train, X_test, y_train, y_test = train_test_split(X, y, test_size=0.2, random_state=42)"
   ]
  },
  {
   "cell_type": "code",
   "execution_count": null,
   "id": "47f58453-512e-4036-b045-30224137c432",
   "metadata": {},
   "outputs": [],
   "source": [
    "# Building NCF Model\n",
    "\n",
    "# Input layers\n",
    "user_input = Input(shape=(1,))\n",
    "movie_input = Input(shape=(1,))\n",
    "\n",
    "# Embedding layers\n",
    "embedding_size = 50\n",
    "user_embedding = Embedding(input_dim=num_users, output_dim=embedding_size)(user_input)\n",
    "movie_embedding = Embedding(input_dim=num_movies, output_dim=embedding_size)(movie_input)\n",
    "\n",
    "# Flatten\n",
    "user_vec = Flatten()(user_embedding)\n",
    "movie_vec = Flatten()(movie_embedding)\n",
    "\n",
    "# Concatenate user and movie vectors\n",
    "concat = Concatenate()([user_vec, movie_vec])\n",
    "\n",
    "# Fully connected layers (MLP)\n",
    "x = Dense(128, activation='relu')(concat)\n",
    "x = Dropout(0.5)(x)\n",
    "x = Dense(64, activation='relu')(x)\n",
    "x = Dropout(0.5)(x)\n",
    "output = Dense(1, activation='sigmoid')(x)  # use 'sigmoid' for implicit feedback\n",
    "\n",
    "# Model\n",
    "model = Model(inputs=[user_input, movie_input], outputs=output)\n",
    "model.compile(loss='binary_crossentropy', optimizer='adam', metrics=['accuracy'])"
   ]
  },
  {
   "cell_type": "code",
   "execution_count": null,
   "id": "c50848cb-c159-4630-93ee-d043a58b6f5f",
   "metadata": {},
   "outputs": [],
   "source": [
    "# Training the model\n",
    "\n",
    "history = model.fit(\n",
    "    [X_train[:, 0], X_train[:, 1]],\n",
    "    y_train,\n",
    "    validation_data=([X_test[:, 0], X_test[:, 1]], y_test),\n",
    "    epochs=10,\n",
    "    batch_size=256,\n",
    "    verbose=1\n",
    ")"
   ]
  },
  {
   "cell_type": "code",
   "execution_count": null,
   "id": "cbca23d8-5151-43a6-8823-84a6d381a5db",
   "metadata": {},
   "outputs": [],
   "source": [
    "# Making Recommendations\n",
    "\n",
    "def recommend_movies(user_id, model, top_n=10):\n",
    "    user_idx = user2user_encoded[user_id]\n",
    "    movie_indices = np.arange(num_movies)\n",
    "\n",
    "    # Predict scores for all movies for this user\n",
    "    predictions = model.predict([np.full(num_movies, user_idx), movie_indices], verbose=0)\n",
    "    \n",
    "    # Get top N movie indices\n",
    "    top_indices = predictions.flatten().argsort()[-top_n:][::-1]\n",
    "\n",
    "    # Map back to original movie IDs\n",
    "    recommended_movie_ids = [movie_ids[i] for i in top_indices]\n",
    "    return recommended_movie_ids"
   ]
  }
 ],
 "metadata": {
  "kernelspec": {
   "display_name": "anaconda-ai-2024.04-py310",
   "language": "python",
   "name": "conda-env-anaconda-ai-2024.04-py310-py"
  },
  "language_info": {
   "codemirror_mode": {
    "name": "ipython",
    "version": 3
   },
   "file_extension": ".py",
   "mimetype": "text/x-python",
   "name": "python",
   "nbconvert_exporter": "python",
   "pygments_lexer": "ipython3",
   "version": "3.10.13"
  }
 },
 "nbformat": 4,
 "nbformat_minor": 5
}
